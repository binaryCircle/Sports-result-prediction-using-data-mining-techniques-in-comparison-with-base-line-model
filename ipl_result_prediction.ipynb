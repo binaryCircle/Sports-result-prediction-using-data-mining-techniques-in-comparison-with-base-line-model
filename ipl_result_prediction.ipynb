{
 "cells": [
  {
   "cell_type": "code",
   "execution_count": null,
   "id": "cf25fd11",
   "metadata": {},
   "outputs": [],
   "source": [
    "import pandas as pd\n",
    "import csv\n",
    "import os"
   ]
  },
  {
   "cell_type": "code",
   "execution_count": null,
   "id": "a9a8890b",
   "metadata": {},
   "outputs": [],
   "source": [
    "# !curl -O 'https://cricsheet.org/downloads/ipl_csv2.zip'"
   ]
  },
  {
   "cell_type": "code",
   "execution_count": null,
   "id": "2d49a126",
   "metadata": {},
   "outputs": [],
   "source": [
    "# !unzip ipl_csv2.zip -d ipl_csv2"
   ]
  },
  {
   "cell_type": "code",
   "execution_count": null,
   "id": "eccce320",
   "metadata": {},
   "outputs": [],
   "source": [
    "for file in os.listdir(path='./ipl_csv2'):\n",
    "    print(file)\n",
    "    if file.endswith('_info.csv'):\n",
    "        bottle_list = []\n",
    "\n",
    "# Read all data from the csv file.\n",
    "        with open(\"./ipl_csv2/\" + file, 'r') as b:\n",
    "            bottles = csv.reader(b)\n",
    "            print(\"read the file\" + file)\n",
    "            bottle_list.extend(bottles)\n",
    "\n",
    "# data to override in the format {line_num_to_override:data_to_write}. \n",
    "        line_to_override = {0:[\"Info\", \"Match_ID\", file[:-9], \"\",\"\"] }\n",
    "\n",
    "# Write data to the csv file and replace the lines in the line_to_override dict.\n",
    "        with open(\"./ipl_csv2/\" + file, 'w') as b:\n",
    "            print(\"wrting a file\" + file)\n",
    "            writer = csv.writer(b)\n",
    "            for line, row in enumerate(bottle_list):\n",
    "                data = line_to_override.get(line, row)\n",
    "                writer.writerow(data)\n",
    "    else:\n",
    "        print(\"Not a info.csv file\")"
   ]
  },
  {
   "cell_type": "code",
   "execution_count": null,
   "id": "43574cf0",
   "metadata": {},
   "outputs": [],
   "source": [
    "df_allmatches = pd.read_csv(\"./ipl_csv2/all_matches.csv\", low_memory = False)\n",
    "display(df_allmatches)"
   ]
  },
  {
   "cell_type": "code",
   "execution_count": null,
   "id": "9fa406fd",
   "metadata": {},
   "outputs": [],
   "source": []
  }
 ],
 "metadata": {
  "kernelspec": {
   "display_name": "Python 3 (ipykernel)",
   "language": "python",
   "name": "python3"
  },
  "language_info": {
   "codemirror_mode": {
    "name": "ipython",
    "version": 3
   },
   "file_extension": ".py",
   "mimetype": "text/x-python",
   "name": "python",
   "nbconvert_exporter": "python",
   "pygments_lexer": "ipython3",
   "version": "3.10.9"
  },
  "vscode": {
   "interpreter": {
    "hash": "aee8b7b246df8f9039afb4144a1f6fd8d2ca17a180786b69acc140d282b71a49"
   }
  }
 },
 "nbformat": 4,
 "nbformat_minor": 5
}
